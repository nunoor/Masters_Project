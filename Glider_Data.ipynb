{
 "cells": [
  {
   "cell_type": "code",
   "execution_count": null,
   "metadata": {},
   "outputs": [],
   "source": [
    "## Code to convert KML file of IOOS glider path data (2009 - 2025) \n",
    "## Code to extract glider path data from Rutger's repository and save as shapefile\n",
    "## For masters project\n",
    "## Nusrat Noor - nusratjnoor@gmail.com"
   ]
  },
  {
   "cell_type": "code",
   "execution_count": null,
   "metadata": {},
   "outputs": [],
   "source": [
    "# Import packages\n",
    "import arcpy\n",
    "import geopandas as gpd\n",
    "import requests\n",
    "from bs4 import BeautifulSoup\n",
    "import xarray as xr\n",
    "import matplotlib.pyplot as plt\n",
    "import cartopy.crs as ccrs\n",
    "import cartopy.feature as cfeature\n",
    "from datetime import datetime, timedelta\n",
    "import pandas as pd\n",
    "from shapely.geometry import LineString"
   ]
  },
  {
   "cell_type": "code",
   "execution_count": null,
   "metadata": {},
   "outputs": [],
   "source": [
    "#Allow overwriting and set workspace\n",
    "arcpy.env.overwriteOutput = True\n",
    "arcpy.env.workspace = \"N:/MP_Noor\""
   ]
  },
  {
   "cell_type": "code",
   "execution_count": null,
   "metadata": {},
   "outputs": [],
   "source": [
    "# Bring in kml file\n",
    "kml_file = \".\\Data\\Glider\\IOOS Gliders Map - Catalog - Catalog.kml\""
   ]
  },
  {
   "cell_type": "code",
   "execution_count": null,
   "metadata": {},
   "outputs": [],
   "source": [
    "# Convert to gis layer\n",
    "arcpy.conversion.KMLToLayer(kml_file, r'.\\Data\\Glider', r'ioos_glider_paths.lyrx')"
   ]
  },
  {
   "cell_type": "code",
   "execution_count": null,
   "metadata": {},
   "outputs": [],
   "source": [
    "# Base URL for the Rutgers Glider THREDDS catalog\n",
    "catalog_url = \"https://tds.marine.rutgers.edu/thredds/catalog/cool/glider/all/catalog.html\"\n",
    "base_data_url = \"https://tds.marine.rutgers.edu/thredds/dodsC/cool/glider/all/\"\n",
    "\n",
    "# Scrape the webpage for dataset links\n",
    "response = requests.get(catalog_url)\n",
    "soup = BeautifulSoup(response.text, 'html.parser')\n",
    "\n",
    "# Open a file in write mode\n",
    "with open(\"N:/MP_Noor/Data/Glider/glider_links.txt\", \"w\") as f:\n",
    "    # Traverse links in the HTML and extract dataset paths\n",
    "    for link in soup.find_all(\"a\", href=True):\n",
    "        data = link.get('href')\n",
    "        if \"dataset=cool/glider/all/\" in data:  # Filter for relevant dataset links\n",
    "            # Extract the filename from the query string\n",
    "            file_name = data.split(\"dataset=cool/glider/all/\")[-1]\n",
    "            # Construct the full URL\n",
    "            full_url = f\"{base_data_url}{file_name}\"\n",
    "            # Write the full URL to the file\n",
    "            f.write(full_url + \"\\n\")\n"
   ]
  },
  {
   "cell_type": "code",
   "execution_count": null,
   "metadata": {},
   "outputs": [],
   "source": [
    "# Load the links into the glider_links list from the text file\n",
    "glider_links = []\n",
    "with open(\"N:/MP_Noor/Data/Glider/glider_links.txt\", \"r\") as f:\n",
    "    glider_links = f.readlines()\n",
    "\n",
    "# Strip newline characters from each link\n",
    "glider_links = [link.strip() for link in glider_links]\n",
    "\n",
    "# Initialize an empty list to store LineString geometries and other attributes\n",
    "geometries = []\n",
    "attributes = []\n",
    "\n",
    "# Loop through each glider link\n",
    "for path in glider_links:\n",
    "    try:\n",
    "        # Open the dataset from the THREDDS server\n",
    "        remote_data = xr.open_dataset(path, decode_times=False)\n",
    "    \n",
    "        # Convert to DataFrame\n",
    "        df = remote_data[['time', 'temperature', 'latitude', 'longitude', 'depth']].to_dataframe()\n",
    "    \n",
    "        # Filter by latitude and longitude range (validating coordinates)\n",
    "        df = df.dropna(subset=['latitude', 'longitude'])  # Remove rows with NaN in lat/long\n",
    "        df = df[df['latitude'].notna() & df['longitude'].notna()]  # Remove NaNs if any\n",
    "        df = df[(df['longitude'] != float('inf')) & (df['latitude'] != float('inf'))]  # Remove infinite values\n",
    "        df = df[(df['longitude'] != -float('inf')) & (df['latitude'] != -float('inf'))]  # Remove negative infinity\n",
    "\n",
    "        # If the DataFrame is empty after cleaning, skip it\n",
    "        if df.empty:\n",
    "            continue\n",
    "\n",
    "        # Create a LineString from the latitude and longitude\n",
    "        line_geom = LineString(df[['longitude', 'latitude']].values)\n",
    "        \n",
    "        # Append the geometry and relevant attributes (e.g., temperature) to the lists\n",
    "        geometries.append(line_geom)\n",
    "        attributes.append({\n",
    "            'temperature': df['temperature'].mean(),  # Example of an additional attribute: average temperature\n",
    "            'num_points': len(df)  # Number of points in the line\n",
    "        })\n",
    "\n",
    "    except Exception as e:\n",
    "        print(f\"Failed to process {path}: {e}\")\n",
    "\n",
    "# Create a GeoDataFrame from the geometries and attributes\n",
    "gdf = gpd.GeoDataFrame(attributes, geometry=geometries)\n",
    "\n",
    "# Set the coordinate reference system to WGS84 (EPSG:4326)\n",
    "gdf.set_crs('EPSG:4326', inplace=True)\n",
    "\n",
    "# Save the GeoDataFrame as a shapefile\n",
    "output_shapefile = \"N:/MP_Noor/Data/Glider/Rutgers.shp\"\n",
    "gdf.to_file(output_shapefile)\n",
    "\n",
    "print(f\"Shapefile saved at: {output_shapefile}\")"
   ]
  },
  {
   "cell_type": "code",
   "execution_count": null,
   "metadata": {},
   "outputs": [],
   "source": []
  }
 ],
 "metadata": {
  "kernelspec": {
   "display_name": "ArcGISPro",
   "language": "python",
   "name": "python3"
  },
  "language_info": {
   "file_extension": ".py",
   "mimetype": "text/x-python",
   "name": "python",
   "version": "3.11.10"
  }
 },
 "nbformat": 4,
 "nbformat_minor": 4
}
