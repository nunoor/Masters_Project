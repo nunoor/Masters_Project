{
 "cells": [
  {
   "cell_type": "code",
   "execution_count": null,
   "metadata": {},
   "outputs": [],
   "source": [
    "## Code to calculate zonal statistics for OSW study sites and save as csv files\n",
    "## Zonal stats separated by season for SST, chlorophyll A, sea surface height anomalies\n",
    "## For master's project\n",
    "## Nusrat Noor - nusratjnoor@gmail.com"
   ]
  },
  {
   "cell_type": "code",
   "execution_count": null,
   "metadata": {},
   "outputs": [],
   "source": [
    "# Import packages\n",
    "import arcpy\n",
    "import geopandas as gpd\n",
    "import os"
   ]
  },
  {
   "cell_type": "code",
   "execution_count": null,
   "metadata": {},
   "outputs": [],
   "source": [
    "#Allow overwriting and set workspace\n",
    "arcpy.env.overwriteOutput = True\n",
    "\n",
    "arcpy.env.workspace = \"N:/MP_Noor\"\n"
   ]
  },
  {
   "cell_type": "code",
   "execution_count": null,
   "metadata": {
    "scrolled": true
   },
   "outputs": [],
   "source": [
    "# set shapefile directory\n",
    "sf = '/Data/Covariates/Covariates_tool_polygon_all.shp'\n",
    "\n",
    "sr = arcpy.Describe(sf).spatialReference\n",
    "\n",
    "variables = ['sss','sst','sla','chlor_a']\n",
    "seasons = ['fall', 'spr', 'sum', 'wint']\n",
    "units = ['sss', 'sea_surface_temperature', 'sla', 'chlor_a']\n",
    "    \n",
    "## NetCDF file\n",
    "for variable, unit in zip(variables,units):\n",
    "    for season in seasons:\n",
    "        fileName = f'/Data/MODIS/{variable}_{season}_months.nc'\n",
    "        out_multidimensional_layer = f\"{variable}_{season}_months_MD\"\n",
    "        arcpy.md.MakeMultidimensionalRasterLayer(\n",
    "            in_multidimensional_raster=fileName,\n",
    "            out_multidimensional_raster_layer=out_multidimensional_layer,\n",
    "            variables=unit,\n",
    "            spatial_reference=sr\n",
    "        )\n",
    "        output_table=f\"/Data/Scratch/{variable}_{season}_stats.dbf\"\n",
    "        arcpy.sa.ZonalStatisticsAsTable(sf, 'NAME', out_multidimensional_layer, output_table, \"DATA\", \"ALL\", \"ALL_SLICES\"\n",
    "                                       )\n"
   ]
  },
  {
   "cell_type": "code",
   "execution_count": null,
   "metadata": {},
   "outputs": [],
   "source": [
    "# Define variables and seasons\n",
    "variables = ['sss', 'sst', 'sla', 'chlor_a']\n",
    "seasons = ['fall', 'spr', 'sum', 'wint']\n",
    "\n",
    "# Define the correct directory for the .dbf files\n",
    "dbf_directory = \"N:/MP_Noor/Data/Scratch\"\n",
    "\n",
    "# Initialize an empty dictionary to store results\n",
    "seasonal_summaries = {}\n",
    "\n",
    "# Loop through variables and seasons\n",
    "for variable in variables:\n",
    "    for season in seasons:\n",
    "        # Construct the DBF file name\n",
    "        dbf_file = os.path.join(dbf_directory, f\"{variable}_{season}_stats.dbf\")\n",
    "        \n",
    "        # Check if the file exists before processing\n",
    "        if os.path.exists(dbf_file):\n",
    "            print(f\"Processing {dbf_file}...\")\n",
    "            \n",
    "            # Read the DBF file into a GeoDataFrame\n",
    "            df = gpd.read_file(dbf_file)\n",
    "            \n",
    "            # Keep only the specified columns in your dataset\n",
    "            columns_to_keep = [\"NAME\", \"MIN\", \"MAX\", \"RANGE\", \"MEAN\", \"STD\", \"SUM\", \"MEDIAN\"]\n",
    "            filtered_df = df[columns_to_keep]\n",
    "            \n",
    "            # Group by 'NAME' and calculate summary statistics for numeric columns\n",
    "            summary = filtered_df.groupby('NAME').agg(\n",
    "                {col: ['mean'] for col in filtered_df.columns if col not in ['NAME']}\n",
    "            )\n",
    "            \n",
    "            # Flatten the MultiIndex columns (optional, for clarity)\n",
    "            summary.columns = ['_'.join(col).strip() for col in summary.columns]\n",
    "            \n",
    "            # Store the summary in the dictionary\n",
    "            seasonal_summaries[f\"{variable}_{season}\"] = summary\n",
    "\n",
    "            # Save the summary to a CSV file\n",
    "            output_filename = f\"{variable}_{season}_summary.csv\"\n",
    "            summary.to_csv(os.path.join(f'N:/MP_Noor/Data/Processed/', output_filename), index=True)\n",
    "\n",
    "            print(f\"Saved {output_filename}\")\n",
    "        else:\n",
    "            print(f\"{dbf_file} does not exist.\")\n",
    "\n",
    "# Example: Access the summary for 'fall' and 'sss'\n",
    "fall_sss_summary = seasonal_summaries.get('sss_fall')\n",
    "if fall_sss_summary is not None:\n",
    "    print(fall_sss_summary.head())\n",
    "else:\n",
    "    print(\"Summary for 'sss_fall' not found.\")\n"
   ]
  },
  {
   "cell_type": "code",
   "execution_count": null,
   "metadata": {},
   "outputs": [],
   "source": []
  }
 ],
 "metadata": {
  "kernelspec": {
   "display_name": "ArcGISPro",
   "language": "python",
   "name": "python3"
  },
  "language_info": {
   "file_extension": ".py",
   "mimetype": "text/x-python",
   "name": "python",
   "version": "3.11.10"
  }
 },
 "nbformat": 4,
 "nbformat_minor": 4
}
