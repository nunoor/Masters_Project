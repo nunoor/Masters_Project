{
 "cells": [
  {
   "cell_type": "code",
   "execution_count": null,
   "metadata": {},
   "outputs": [],
   "source": [
    "## Code to extract bottom temperature data and calculate average\n",
    "## zonal statistics for ALL 21 OSW study sites and save as csv file\n",
    "## For masters project\n",
    "## Nusrat Noor - nusratjnoor@gmail.com"
   ]
  },
  {
   "cell_type": "code",
   "execution_count": null,
   "metadata": {},
   "outputs": [],
   "source": [
    "#Import packages\n",
    "import arcpy\n",
    "import geopandas as gpd"
   ]
  },
  {
   "cell_type": "code",
   "execution_count": null,
   "metadata": {},
   "outputs": [],
   "source": [
    "#Allow overwriting and set workspace\n",
    "arcpy.env.overwriteOutput = True\n",
    "arcpy.env.workspace = \"N:/MP_Noor\""
   ]
  },
  {
   "cell_type": "code",
   "execution_count": null,
   "metadata": {},
   "outputs": [],
   "source": [
    "#Bring in covariates shapefile\n",
    "sf = \"Data\\Covariates\\All_Sites_Buffered.shp\"\n",
    "sr = arcpy.Describe(sf).spatialReference"
   ]
  },
  {
   "cell_type": "code",
   "execution_count": null,
   "metadata": {
    "scrolled": true
   },
   "outputs": [],
   "source": [
    "#Bring in the raster file\n",
    "fileName = \"Data\\\\Oceanography\\\\fvcom_bottom_temp.tif\""
   ]
  },
  {
   "cell_type": "code",
   "execution_count": null,
   "metadata": {
    "scrolled": true
   },
   "outputs": [],
   "source": [
    "#Check spatial reference\n",
    "fr = arcpy.Describe(fileName).spatialReference\n",
    "fr"
   ]
  },
  {
   "cell_type": "code",
   "execution_count": null,
   "metadata": {},
   "outputs": [],
   "source": [
    "#Zonal stats as table to get mean\n",
    "arcpy.sa.ZonalStatisticsAsTable(sf, 'LEASE_NUMB', fileName, 'avg_bottom_temp_all_sites.dbf', \"DATA\", \"MEAN\")"
   ]
  },
  {
   "cell_type": "code",
   "execution_count": null,
   "metadata": {
    "scrolled": true
   },
   "outputs": [],
   "source": [
    "#Bring in the dbf file and check top rows\n",
    "df = gpd.read_file('avg_bottom_temp_all_sites.dbf')\n",
    "df.head()"
   ]
  },
  {
   "cell_type": "code",
   "execution_count": null,
   "metadata": {},
   "outputs": [],
   "source": [
    "#Save as csv file\n",
    "df.to_csv(\"N:/MP_Noor/Data/Processed/avg_bottom_temp_C_all_sites.csv\")"
   ]
  },
  {
   "cell_type": "code",
   "execution_count": null,
   "metadata": {},
   "outputs": [],
   "source": []
  }
 ],
 "metadata": {
  "kernelspec": {
   "display_name": "ArcGISPro",
   "language": "python",
   "name": "python3"
  },
  "language_info": {
   "file_extension": ".py",
   "mimetype": "text/x-python",
   "name": "python",
   "version": "3.11.10"
  }
 },
 "nbformat": 4,
 "nbformat_minor": 4
}
