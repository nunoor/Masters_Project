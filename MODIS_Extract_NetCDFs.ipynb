{
 "cells": [
  {
   "cell_type": "code",
   "execution_count": null,
   "metadata": {},
   "outputs": [],
   "source": [
    "## Code to extract sst, chlorophyll, and sea surface height anomaly data from \n",
    "## 2020 to 2024 and subset out by season\n",
    "## Save as netcdf files\n",
    "## For master's project\n",
    "## Nusrat Noor - nusratjnoor@gmail.com"
   ]
  },
  {
   "cell_type": "code",
   "execution_count": null,
   "metadata": {
    "scrolled": true
   },
   "outputs": [],
   "source": [
    "# Import packages\n",
    "import xarray as xr\n",
    "import matplotlib.pyplot as plt\n",
    "import pandas as pd\n",
    "import netCDF4 as nc\n",
    "import arcpy\n",
    "import numpy as np"
   ]
  },
  {
   "cell_type": "code",
   "execution_count": null,
   "metadata": {},
   "outputs": [],
   "source": [
    "#get variable dataset\n",
    "sst_dataset = xr.open_dataset(\"https://coastwatch.noaa.gov/erddap/griddap/noaacwL3CollatednppC\")\n",
    "chlor_a_dataset = xr.open_dataset(\"https://coastwatch.noaa.gov/erddap/griddap/noaacwNPPVIIRSSQchlaDaily.html\")\n",
    "sla_dataset = xr.open_dataset(\"https://coastwatch.noaa.gov/erddap/griddap/noaacwBLENDEDsshDaily.html\")\n",
    "#sss_dataset = xr.open_dataset(\"https://coastwatch.noaa.gov/erddap/griddap/noaacwSMOSsssDaily.nc?sss%5B(2025-02-02T12:00:00Z):1:(2025-02-02T12:00:00Z)%5D%5B(0.0):1:(0.0)%5D%5B(-89.875):1:(89.875)%5D%5B(-179.875):1:(179.875)%5D\")\n",
    "\n",
    "#extract only variable column\n",
    "sst = sst_dataset['sea_surface_temperature']\n",
    "chlor_a = chlor_a_dataset['chlor_a']\n",
    "sla = sla_dataset['sla']\n",
    "#sss = sss_dataset['sss']\n",
    "\n",
    "#format 'time' as datetime\n",
    "sst['time'] =  pd.to_datetime(sst['time'],format='%Y-%m-%d')\n",
    "chlor_a['time'] = pd.to_datetime(chlor_a['time'],format='%Y-%m-%d')\n",
    "sla['time'] =  pd.to_datetime(sla['time'],format='%Y-%m-%d')\n",
    "#sss['time'] = pd.to_datetime(sss['time'],format='%Y-%m-%d')"
   ]
  },
  {
   "cell_type": "code",
   "execution_count": null,
   "metadata": {},
   "outputs": [],
   "source": [
    "#create a list of years\n",
    "year = [2020, 2021, 2022, 2023, 2024] \n",
    "#create a list of months in a year\n",
    "wint_months = [12,1,2]\n",
    "spr_months = [3,4,5]\n",
    "sum_months = [6,7,8]\n",
    "fall_months = [9,10,11]\n",
    "\n",
    "#create a dictionary of seasons\n",
    "month_dict = {'wint_months': wint_months, 'spr_months': spr_months, \n",
    "              'sum_months': sum_months, 'fall_months': fall_months}\n",
    "\n",
    "#subset data to each season and area and export     \n",
    "for key in month_dict:\n",
    "\n",
    "    month_sub_sst = sst[sst['time'].dt.year.isin(year) & sst['time'].dt.month.isin(month_dict[key])].sel(longitude=slice(-80,-65), latitude=slice(45,25))\n",
    "    month_sub_sst.to_netcdf(\"N:/MP_Noor/Data/MODIS/sst_{}.nc\".format(key))\n",
    "\n",
    "    month_sub_chlor = chlor_a[chlor_a['time'].dt.year.isin(year) & chlor_a['time'].dt.month.isin(month_dict[key])].sel(longitude=slice(-80,-65), latitude=slice(45,25))\n",
    "    month_sub_chlor.to_netcdf(\"N:/MP_Noor/Data/MODIS/chlor_a_{}.nc\".format(key))\n",
    "\n",
    "    month_sub_sla = sla[sla['time'].dt.year.isin(year) & sla['time'].dt.month.isin(month_dict[key])].sel(longitude=slice(-80,-65), latitude=slice(45,25))\n",
    "    month_sub_sla.to_netcdf(\"N:/MP_Noor/Data/MODIS/sla_{}.nc\".format(key))\n",
    "\n",
    "    #month_sub_sss = sss[sss['time'].dt.year.isin(year) & sss['time'].dt.month.isin(month_dict[key])].sel(longitude=slice(-80,-65), latitude=slice(45,25))\n",
    "    #month_sub_sss.to_netcdf(\"N:/MP_Noor/Data/MODIS/sss_{}.nc\".format(key))"
   ]
  }
 ],
 "metadata": {
  "kernelspec": {
   "display_name": "ArcGISPro",
   "language": "python",
   "name": "python3"
  },
  "language_info": {
   "file_extension": ".py",
   "mimetype": "text/x-python",
   "name": "python",
   "version": "3.11.10"
  }
 },
 "nbformat": 4,
 "nbformat_minor": 4
}
